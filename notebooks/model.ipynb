{
 "cells": [
  {
   "cell_type": "code",
   "execution_count": 26,
   "metadata": {},
   "outputs": [],
   "source": [
    "# Imports\n",
    "import numpy as np\n",
    "import pandas as pd\n",
    "import matplotlib.pyplot as plt\n",
    "import pickle\n",
    "import os\n",
    "from scipy.stats import linregress\n",
    "from sklearn_pandas import DataFrameMapper\n",
    "from sklearn.preprocessing import LabelEncoder, LabelBinarizer\n",
    "from sklearn.model_selection import train_test_split, GridSearchCV, RandomizedSearchCV\n",
    "from sklearn.metrics import mean_squared_error\n",
    "from sklearn.kernel_ridge import KernelRidge as KRR\n",
    "from sklearn.ensemble import RandomForestRegressor as RFR\n",
    "from sklearn.gaussian_process.kernels import WhiteKernel, ExpSineSquared\n",
    "\n",
    "# Define the project root directory\n",
    "ROOT_DIR = os.path.join(os.getcwd(), os.pardir)"
   ]
  },
  {
   "cell_type": "code",
   "execution_count": 7,
   "metadata": {},
   "outputs": [
    {
     "name": "stdout",
     "output_type": "stream",
     "text": [
      "Loaded raw data of shape (1892, 14)\n"
     ]
    }
   ],
   "source": [
    "# Load the data\n",
    "df = pd.read_pickle(f\"{ROOT_DIR}/data/data.csv\")\n",
    "print(f\"Loaded raw data of shape {df.shape}\")"
   ]
  },
  {
   "cell_type": "code",
   "execution_count": 8,
   "metadata": {},
   "outputs": [
    {
     "data": {
      "image/png": "[encoded data removed]",
      "text/plain": [
       "<Figure size 432x288 with 1 Axes>"
      ]
     },
     "metadata": {
      "needs_background": "light"
     },
     "output_type": "display_data"
    },
    {
     "data": {
      "text/plain": [
       "(1892, 14)"
      ]
     },
     "execution_count": 8,
     "metadata": {},
     "output_type": "execute_result"
    }
   ],
   "source": [
    "plt.plot(df[\"Reaction Energy\"], df[\"Activation Energy\"], \"b.\")\n",
    "plt.xlabel(\"Reaction Energy [eV]\")\n",
    "plt.ylabel(\"Activation Energy [eV]\")\n",
    "plt.savefig(f\"{ROOT_DIR}/data/images/er_ea_correlation.png\")\n",
    "plt.show()\n",
    "df.shape"
   ]
  },
  {
   "cell_type": "markdown",
   "metadata": {},
   "source": [
    "### Separate metals, non-metals, and semiconductors"
   ]
  },
  {
   "cell_type": "code",
   "execution_count": 10,
   "metadata": {},
   "outputs": [
    {
     "name": "stdout",
     "output_type": "stream",
     "text": [
      "Found 1826 reaction on pure metal catalyst surfaces.\n"
     ]
    }
   ],
   "source": [
    "metals = [\n",
    "    \"Sc\", \"Ti\", \"V\", \"Cr\", \"Mn\", \"Fe\", \"Co\", \"Ni\", \"Cu\", \"Zn\",\n",
    "    \"Y\", \"Zr\", \"Nb\", \"Mo\", \"Tc\", \"Ru\", \"Rh\", \"Pd\", \"Ag\", \"Cd\",\n",
    "    \"Hf\", \"Ta\", \"W\", \"Re\", \"Os\", \"Ir\", \"Pt\", \"Au\", \"Hg\",\n",
    "    \"Rf\", \"Db\", \"Sg\", \"Bh\", \"Hs\", \"Mt\", \"Ds\", \"Rg\", \"Cn\",\n",
    "    \"Al\", \"Ga\", \"In\", \"Sn\", \"Tl\", \"Pb\", \"Bi\", \"Nh\", \"Fl\", \"Mc\", \"Lv\",\n",
    "    \"Y-fcc\", \"Zr-fcc\", \"Nb-fcc\", \"Mo-fcc\", \"Tc-fcc\", \"Ru-fcc\", \"Rh-fcc\", \"Pd-fcc\", \"Ag-fcc\", \"Cd-fcc\",\n",
    "    \"Sc-fcc\", \"Ti-fcc\", \"V-fcc\", \"Cr-fcc\", \"Mn-fcc\", \"Fe-fcc\", \"Co-fcc\", \"Ni-fcc\", \"Cu-fcc\", \"Zn-fcc\",\n",
    "    \"Hf-fcc\", \"Ta-fcc\", \"W-fcc\", \"Re-fcc\", \"Os-fcc\", \"Ir-fcc\", \"Pt-fcc\", \"Au-fcc\", \"Hg-fcc\",\n",
    "    \"Rf-fcc\", \"Db-fcc\", \"Sg-fcc\", \"Bh-fcc\", \"Hs-fcc\", \"Mt-fcc\", \"Ds-fcc\", \"Rg-fcc\", \"Cn-fcc\",\n",
    "    \"Al-fcc\", \"Ga-fcc\", \"In-fcc\", \"Sn-fcc\", \"Tl-fcc\", \"Pb-fcc\", \"Bi-fcc\", \"Nh-fcc\", \"Fl-fcc\", \"Mc-fcc\", \"Lv-fcc\"\n",
    "]\n",
    "\n",
    "indices = []\n",
    "\n",
    "for i in range(df.shape[0]):\n",
    "    if df.iloc[i][\"Chemical Composition\"] in metals or df.iloc[i][\"Surface Composition\"] in metals:\n",
    "        indices.append(i)\n",
    "df = df.iloc[indices]\n",
    "\n",
    "print(f\"Found {df.shape[0]} reaction on pure metal catalyst surfaces.\")"
   ]
  },
  {
   "cell_type": "markdown",
   "metadata": {},
   "source": [
    "### Transform feature labels to binary one-hot arrays with DataFrameMapper and LabelBinarizer"
   ]
  },
  {
   "cell_type": "code",
   "execution_count": 13,
   "metadata": {},
   "outputs": [
    {
     "name": "stdout",
     "output_type": "stream",
     "text": [
      "Converted 13 features into 527 features.\n"
     ]
    },
    {
     "data": {
      "text/html": [
       "<div>\n",
       "<style scoped>\n",
       "    .dataframe tbody tr th:only-of-type {\n",
       "        vertical-align: middle;\n",
       "    }\n",
       "\n",
       "    .dataframe tbody tr th {\n",
       "        vertical-align: top;\n",
       "    }\n",
       "\n",
       "    .dataframe thead th {\n",
       "        text-align: right;\n",
       "    }\n",
       "</style>\n",
       "<table border=\"1\" class=\"dataframe\">\n",
       "  <thead>\n",
       "    <tr style=\"text-align: right;\">\n",
       "      <th></th>\n",
       "      <th>Reactant 1_*</th>\n",
       "      <th>Reactant 1_C*</th>\n",
       "      <th>Reactant 1_CCH*</th>\n",
       "      <th>Reactant 1_CCH2*</th>\n",
       "      <th>Reactant 1_CCH3*</th>\n",
       "      <th>Reactant 1_CH*</th>\n",
       "      <th>Reactant 1_CH2*</th>\n",
       "      <th>Reactant 1_CH2CH2*</th>\n",
       "      <th>Reactant 1_CH2CH3*</th>\n",
       "      <th>Reactant 1_CH2N*</th>\n",
       "      <th>...</th>\n",
       "      <th>Reaction Equation_O2(g) -&gt; O*</th>\n",
       "      <th>Reaction Equation_O2* -&gt; O*</th>\n",
       "      <th>Reaction Equation_OCCO* + 0.5H2(g) -&gt; OCCOH*</th>\n",
       "      <th>Reaction Equation_OCH* -&gt; CH* + O*</th>\n",
       "      <th>Reaction Equation_OCH2* -&gt; CH2* + O*</th>\n",
       "      <th>Reaction Equation_OCH3* -&gt; CH3* + O*</th>\n",
       "      <th>Reaction Equation_OH* + * -&gt; H* + O*</th>\n",
       "      <th>Reaction Equation_OH* -&gt; H* + O*</th>\n",
       "      <th>Reaction Energy</th>\n",
       "      <th>Activation Energy</th>\n",
       "    </tr>\n",
       "  </thead>\n",
       "  <tbody>\n",
       "    <tr>\n",
       "      <th>0</th>\n",
       "      <td>0</td>\n",
       "      <td>0</td>\n",
       "      <td>0</td>\n",
       "      <td>0</td>\n",
       "      <td>0</td>\n",
       "      <td>0</td>\n",
       "      <td>0</td>\n",
       "      <td>0</td>\n",
       "      <td>0</td>\n",
       "      <td>0</td>\n",
       "      <td>...</td>\n",
       "      <td>0</td>\n",
       "      <td>0</td>\n",
       "      <td>0</td>\n",
       "      <td>0</td>\n",
       "      <td>0</td>\n",
       "      <td>0</td>\n",
       "      <td>0</td>\n",
       "      <td>0</td>\n",
       "      <td>1.584128</td>\n",
       "      <td>2.079705</td>\n",
       "    </tr>\n",
       "    <tr>\n",
       "      <th>1</th>\n",
       "      <td>1</td>\n",
       "      <td>0</td>\n",
       "      <td>0</td>\n",
       "      <td>0</td>\n",
       "      <td>0</td>\n",
       "      <td>0</td>\n",
       "      <td>0</td>\n",
       "      <td>0</td>\n",
       "      <td>0</td>\n",
       "      <td>0</td>\n",
       "      <td>...</td>\n",
       "      <td>0</td>\n",
       "      <td>0</td>\n",
       "      <td>0</td>\n",
       "      <td>0</td>\n",
       "      <td>0</td>\n",
       "      <td>0</td>\n",
       "      <td>0</td>\n",
       "      <td>0</td>\n",
       "      <td>0.520276</td>\n",
       "      <td>0.618718</td>\n",
       "    </tr>\n",
       "    <tr>\n",
       "      <th>2</th>\n",
       "      <td>1</td>\n",
       "      <td>0</td>\n",
       "      <td>0</td>\n",
       "      <td>0</td>\n",
       "      <td>0</td>\n",
       "      <td>0</td>\n",
       "      <td>0</td>\n",
       "      <td>0</td>\n",
       "      <td>0</td>\n",
       "      <td>0</td>\n",
       "      <td>...</td>\n",
       "      <td>0</td>\n",
       "      <td>0</td>\n",
       "      <td>0</td>\n",
       "      <td>0</td>\n",
       "      <td>0</td>\n",
       "      <td>0</td>\n",
       "      <td>0</td>\n",
       "      <td>0</td>\n",
       "      <td>3.701011</td>\n",
       "      <td>4.165724</td>\n",
       "    </tr>\n",
       "    <tr>\n",
       "      <th>3</th>\n",
       "      <td>0</td>\n",
       "      <td>0</td>\n",
       "      <td>0</td>\n",
       "      <td>0</td>\n",
       "      <td>0</td>\n",
       "      <td>0</td>\n",
       "      <td>0</td>\n",
       "      <td>0</td>\n",
       "      <td>0</td>\n",
       "      <td>0</td>\n",
       "      <td>...</td>\n",
       "      <td>0</td>\n",
       "      <td>0</td>\n",
       "      <td>0</td>\n",
       "      <td>0</td>\n",
       "      <td>0</td>\n",
       "      <td>0</td>\n",
       "      <td>0</td>\n",
       "      <td>0</td>\n",
       "      <td>1.350000</td>\n",
       "      <td>2.550000</td>\n",
       "    </tr>\n",
       "    <tr>\n",
       "      <th>4</th>\n",
       "      <td>0</td>\n",
       "      <td>0</td>\n",
       "      <td>0</td>\n",
       "      <td>0</td>\n",
       "      <td>0</td>\n",
       "      <td>0</td>\n",
       "      <td>0</td>\n",
       "      <td>0</td>\n",
       "      <td>0</td>\n",
       "      <td>0</td>\n",
       "      <td>...</td>\n",
       "      <td>0</td>\n",
       "      <td>0</td>\n",
       "      <td>0</td>\n",
       "      <td>0</td>\n",
       "      <td>0</td>\n",
       "      <td>0</td>\n",
       "      <td>0</td>\n",
       "      <td>0</td>\n",
       "      <td>0.353636</td>\n",
       "      <td>0.482330</td>\n",
       "    </tr>\n",
       "  </tbody>\n",
       "</table>\n",
       "<p>5 rows × 528 columns</p>\n",
       "</div>"
      ],
      "text/plain": [
       "   Reactant 1_*  Reactant 1_C*  Reactant 1_CCH*  Reactant 1_CCH2*  \\\n",
       "0             0              0                0                 0   \n",
       "1             1              0                0                 0   \n",
       "2             1              0                0                 0   \n",
       "3             0              0                0                 0   \n",
       "4             0              0                0                 0   \n",
       "\n",
       "   Reactant 1_CCH3*  Reactant 1_CH*  Reactant 1_CH2*  Reactant 1_CH2CH2*  \\\n",
       "0                 0               0                0                   0   \n",
       "1                 0               0                0                   0   \n",
       "2                 0               0                0                   0   \n",
       "3                 0               0                0                   0   \n",
       "4                 0               0                0                   0   \n",
       "\n",
       "   Reactant 1_CH2CH3*  Reactant 1_CH2N*  ...  Reaction Equation_O2(g) -> O*  \\\n",
       "0                   0                 0  ...                              0   \n",
       "1                   0                 0  ...                              0   \n",
       "2                   0                 0  ...                              0   \n",
       "3                   0                 0  ...                              0   \n",
       "4                   0                 0  ...                              0   \n",
       "\n",
       "   Reaction Equation_O2* -> O*  Reaction Equation_OCCO* + 0.5H2(g) -> OCCOH*  \\\n",
       "0                            0                                             0   \n",
       "1                            0                                             0   \n",
       "2                            0                                             0   \n",
       "3                            0                                             0   \n",
       "4                            0                                             0   \n",
       "\n",
       "   Reaction Equation_OCH* -> CH* + O*  Reaction Equation_OCH2* -> CH2* + O*  \\\n",
       "0                                   0                                     0   \n",
       "1                                   0                                     0   \n",
       "2                                   0                                     0   \n",
       "3                                   0                                     0   \n",
       "4                                   0                                     0   \n",
       "\n",
       "   Reaction Equation_OCH3* -> CH3* + O*  Reaction Equation_OH* + * -> H* + O*  \\\n",
       "0                                     0                                     0   \n",
       "1                                     0                                     0   \n",
       "2                                     0                                     0   \n",
       "3                                     0                                     0   \n",
       "4                                     0                                     0   \n",
       "\n",
       "   Reaction Equation_OH* -> H* + O*  Reaction Energy  Activation Energy  \n",
       "0                                 0         1.584128           2.079705  \n",
       "1                                 0         0.520276           0.618718  \n",
       "2                                 0         3.701011           4.165724  \n",
       "3                                 0         1.350000           2.550000  \n",
       "4                                 0         0.353636           0.482330  \n",
       "\n",
       "[5 rows x 528 columns]"
      ]
     },
     "execution_count": 13,
     "metadata": {},
     "output_type": "execute_result"
    }
   ],
   "source": [
    "df_bin = df.copy()\n",
    "print(f\"Converted {df_bin.shape[1] - 1} features into \", end=\"\")\n",
    "\n",
    "bin_mapper = DataFrameMapper([\n",
    "    (\"Reactant 1\", LabelBinarizer()),\n",
    "    (\"Reactant 2\", LabelBinarizer()),\n",
    "    (\"Reactant 3\", LabelBinarizer()),\n",
    "    (\"Product 1\", LabelBinarizer()),\n",
    "    (\"Product 2\", LabelBinarizer()),\n",
    "    (\"Chemical Composition\", LabelBinarizer()),\n",
    "    (\"Surface Composition\", LabelBinarizer()),\n",
    "    (\"Facet\", LabelBinarizer()),\n",
    "    (\"Adsorption Site\", LabelBinarizer()),\n",
    "    (\"Reaction Equation\", LabelBinarizer()),\n",
    "    ([\"Reaction Energy\"], None),\n",
    "    ([\"Activation Energy\"], None),\n",
    "], df_out=True)\n",
    "\n",
    "df_bin = bin_mapper.fit_transform(df_bin)\n",
    "print(f\"{df_bin.shape[1] - 1} features.\")\n",
    "df_bin.head()"
   ]
  },
  {
   "cell_type": "markdown",
   "metadata": {},
   "source": [
    "### OR Transform feature labels to integer values with LabelEncoder"
   ]
  },
  {
   "cell_type": "code",
   "execution_count": 14,
   "metadata": {},
   "outputs": [
    {
     "data": {
      "text/html": [
       "<div>\n",
       "<style scoped>\n",
       "    .dataframe tbody tr th:only-of-type {\n",
       "        vertical-align: middle;\n",
       "    }\n",
       "\n",
       "    .dataframe tbody tr th {\n",
       "        vertical-align: top;\n",
       "    }\n",
       "\n",
       "    .dataframe thead th {\n",
       "        text-align: right;\n",
       "    }\n",
       "</style>\n",
       "<table border=\"1\" class=\"dataframe\">\n",
       "  <thead>\n",
       "    <tr style=\"text-align: right;\">\n",
       "      <th></th>\n",
       "      <th>Reactant 1</th>\n",
       "      <th>Reactant 2</th>\n",
       "      <th>Reactant 3</th>\n",
       "      <th>Product 1</th>\n",
       "      <th>Product 2</th>\n",
       "      <th>Chemical Composition</th>\n",
       "      <th>Surface Composition</th>\n",
       "      <th>Facet</th>\n",
       "      <th>Adsorption Site</th>\n",
       "      <th>Reaction Equation</th>\n",
       "      <th>Reaction Energy</th>\n",
       "      <th>Activation Energy</th>\n",
       "    </tr>\n",
       "  </thead>\n",
       "  <tbody>\n",
       "    <tr>\n",
       "      <th>0</th>\n",
       "      <td>44</td>\n",
       "      <td>46</td>\n",
       "      <td>5</td>\n",
       "      <td>73</td>\n",
       "      <td>0</td>\n",
       "      <td>31</td>\n",
       "      <td>19</td>\n",
       "      <td>6</td>\n",
       "      <td>5</td>\n",
       "      <td>129</td>\n",
       "      <td>1.584128</td>\n",
       "      <td>2.079705</td>\n",
       "    </tr>\n",
       "    <tr>\n",
       "      <th>1</th>\n",
       "      <td>0</td>\n",
       "      <td>46</td>\n",
       "      <td>5</td>\n",
       "      <td>0</td>\n",
       "      <td>42</td>\n",
       "      <td>31</td>\n",
       "      <td>19</td>\n",
       "      <td>6</td>\n",
       "      <td>5</td>\n",
       "      <td>117</td>\n",
       "      <td>0.520276</td>\n",
       "      <td>0.618718</td>\n",
       "    </tr>\n",
       "    <tr>\n",
       "      <th>2</th>\n",
       "      <td>0</td>\n",
       "      <td>10</td>\n",
       "      <td>5</td>\n",
       "      <td>2</td>\n",
       "      <td>5</td>\n",
       "      <td>2</td>\n",
       "      <td>0</td>\n",
       "      <td>6</td>\n",
       "      <td>5</td>\n",
       "      <td>22</td>\n",
       "      <td>3.701011</td>\n",
       "      <td>4.165724</td>\n",
       "    </tr>\n",
       "    <tr>\n",
       "      <th>3</th>\n",
       "      <td>51</td>\n",
       "      <td>58</td>\n",
       "      <td>5</td>\n",
       "      <td>51</td>\n",
       "      <td>52</td>\n",
       "      <td>43</td>\n",
       "      <td>19</td>\n",
       "      <td>7</td>\n",
       "      <td>5</td>\n",
       "      <td>137</td>\n",
       "      <td>1.350000</td>\n",
       "      <td>2.550000</td>\n",
       "    </tr>\n",
       "    <tr>\n",
       "      <th>4</th>\n",
       "      <td>32</td>\n",
       "      <td>58</td>\n",
       "      <td>5</td>\n",
       "      <td>33</td>\n",
       "      <td>52</td>\n",
       "      <td>6</td>\n",
       "      <td>2</td>\n",
       "      <td>7</td>\n",
       "      <td>0</td>\n",
       "      <td>109</td>\n",
       "      <td>0.353636</td>\n",
       "      <td>0.482330</td>\n",
       "    </tr>\n",
       "  </tbody>\n",
       "</table>\n",
       "</div>"
      ],
      "text/plain": [
       "   Reactant 1  Reactant 2  Reactant 3  Product 1  Product 2  \\\n",
       "0          44          46           5         73          0   \n",
       "1           0          46           5          0         42   \n",
       "2           0          10           5          2          5   \n",
       "3          51          58           5         51         52   \n",
       "4          32          58           5         33         52   \n",
       "\n",
       "   Chemical Composition  Surface Composition  Facet  Adsorption Site  \\\n",
       "0                    31                   19      6                5   \n",
       "1                    31                   19      6                5   \n",
       "2                     2                    0      6                5   \n",
       "3                    43                   19      7                5   \n",
       "4                     6                    2      7                0   \n",
       "\n",
       "   Reaction Equation  Reaction Energy  Activation Energy  \n",
       "0                129         1.584128           2.079705  \n",
       "1                117         0.520276           0.618718  \n",
       "2                 22         3.701011           4.165724  \n",
       "3                137         1.350000           2.550000  \n",
       "4                109         0.353636           0.482330  "
      ]
     },
     "execution_count": 14,
     "metadata": {},
     "output_type": "execute_result"
    }
   ],
   "source": [
    "df_enc = df.copy()\n",
    "\n",
    "enc_mapper = DataFrameMapper([\n",
    "    ('Reactant 1', LabelEncoder()),\n",
    "    ('Reactant 2', LabelEncoder()),\n",
    "    ('Reactant 3', LabelEncoder()),\n",
    "    ('Product 1', LabelEncoder()),\n",
    "    ('Product 2', LabelEncoder()),\n",
    "    ('Chemical Composition', LabelEncoder()),\n",
    "    ('Surface Composition', LabelEncoder()),\n",
    "    ('Facet', LabelEncoder()),\n",
    "    ('Adsorption Site', LabelEncoder()),\n",
    "    ('Reaction Equation', LabelEncoder()),\n",
    "    (['Reaction Energy'], None),\n",
    "    (['Activation Energy'], None),\n",
    "], df_out=True)\n",
    "\n",
    "df_enc = enc_mapper.fit_transform(df_enc)\n",
    "df_enc = df_enc.drop_duplicates(ignore_index=True)\n",
    "df_enc.head()"
   ]
  },
  {
   "cell_type": "markdown",
   "metadata": {},
   "source": [
    "### Split the data into training and test sets"
   ]
  },
  {
   "cell_type": "code",
   "execution_count": 15,
   "metadata": {},
   "outputs": [],
   "source": [
    "train_set_enc, test_set_enc = train_test_split(df_enc, test_size=0.2)\n",
    "train_set_bin, test_set_bin = train_test_split(df_bin, test_size=0.2)\n",
    "\n",
    "y_train_enc = train_set_enc[\"Activation Energy\"]\n",
    "X_train_enc = train_set_enc.drop(\"Activation Energy\", axis=1)\n",
    "y_train_bin = train_set_bin[\"Activation Energy\"]\n",
    "X_train_bin = train_set_bin.drop(\"Activation Energy\", axis=1)\n",
    "\n",
    "y_test_enc = test_set_enc[\"Activation Energy\"]\n",
    "X_test_enc = test_set_enc.drop(\"Activation Energy\", axis=1)\n",
    "y_test_bin = test_set_bin[\"Activation Energy\"]\n",
    "X_test_bin = test_set_bin.drop(\"Activation Energy\", axis=1)"
   ]
  },
  {
   "cell_type": "markdown",
   "metadata": {},
   "source": [
    "### Kernel Ridge Regression"
   ]
  },
  {
   "cell_type": "code",
   "execution_count": 18,
   "metadata": {
    "tags": []
   },
   "outputs": [
    {
     "name": "stdout",
     "output_type": "stream",
     "text": [
      "KRR score with label encoded data: 0.7344589224984097, using parameters: {'alpha': 1.0, 'coef0': 1, 'degree': 3, 'gamma': 0.01, 'kernel': 'linear', 'kernel_params': None}\n",
      "KRR score with label binarized data: 0.9508332111666689, using parameters: {'alpha': 0.01, 'coef0': 1, 'degree': 3, 'gamma': 0.01, 'kernel': 'rbf', 'kernel_params': None}\n"
     ]
    }
   ],
   "source": [
    "param_grid = {\"alpha\": [1e0, 1e-1, 1e-2, 1e-3],\n",
    "              \"gamma\": np.logspace(-2, 2, 5),\n",
    "              \"kernel\": [\"rbf\", \"linear\"]}\n",
    "\n",
    "krr_enc = GridSearchCV(KRR(), param_grid=param_grid)\n",
    "krr_enc.fit(X_train_enc, y_train_enc)\n",
    "krr_enc_best = krr_enc.best_estimator_\n",
    "krr_enc_score = krr_enc_best.score(X_test_enc, y_test_enc)\n",
    "krr_enc_pred = krr_enc_best.predict(X_test_enc)\n",
    "\n",
    "krr_bin = GridSearchCV(KRR(), param_grid=param_grid)\n",
    "krr_bin.fit(X_train_bin, y_train_bin)\n",
    "krr_bin_best = krr_bin.best_estimator_\n",
    "krr_bin_score = krr_bin_best.score(X_test_bin, y_test_bin)\n",
    "krr_bin_pred = krr_bin_best.predict(X_test_bin)\n",
    "\n",
    "print(f\"KRR score with label encoded data: {krr_enc_score}, using parameters: {krr_enc_best.get_params()}\")\n",
    "print(f\"KRR score with label binarized data: {krr_bin_score}, using parameters: {krr_bin_best.get_params()}\")"
   ]
  },
  {
   "cell_type": "code",
   "execution_count": 45,
   "metadata": {},
   "outputs": [
    {
     "data": {
      "image/png": "[encoded data removed]",
      "text/plain": [
       "<Figure size 432x288 with 1 Axes>"
      ]
     },
     "metadata": {
      "needs_background": "light"
     },
     "output_type": "display_data"
    }
   ],
   "source": [
    "# Plot the label encoded KRR predictions against the test set target values\n",
    "\n",
    "res = linregress(krr_enc_pred, y_test_enc)\n",
    "x = np.arange(-1, 8, 1)\n",
    "y = x*res[0] + res[1]\n",
    "fig = plt.figure()\n",
    "ax = fig.add_subplot(111)\n",
    "plt.plot(krr_enc_pred, y_test_enc, \"b.\")\n",
    "plt.plot(x, y, \"r-\")\n",
    "plt.xlabel(\"$E_A$ ML [eV]\")\n",
    "plt.ylabel(\"$E_A$ DFT [eV]\")\n",
    "plt.xlim(xmin=min(krr_enc_pred), xmax=max(krr_enc_pred))\n",
    "plt.ylim(ymin=min(y_test_enc), ymax=max(y_test_enc))\n",
    "ax.set_aspect(\"equal\")\n",
    "plt.savefig(f\"{ROOT_DIR}/data/images/krr_enc_pred.png\")\n",
    "plt.show()"
   ]
  },
  {
   "cell_type": "code",
   "execution_count": 46,
   "metadata": {},
   "outputs": [
    {
     "data": {
      "image/png": "[encoded data removed]",
      "text/plain": [
       "<Figure size 432x288 with 1 Axes>"
      ]
     },
     "metadata": {
      "needs_background": "light"
     },
     "output_type": "display_data"
    }
   ],
   "source": [
    "# Plot the binarized KRR predictions against the test set target values\n",
    "\n",
    "res = linregress(krr_bin_pred, y_test_bin)\n",
    "x = np.arange(0, 8, 1)\n",
    "y = x*res[0] + res[1]\n",
    "fig = plt.figure()\n",
    "ax = fig.add_subplot(111)\n",
    "plt.plot(krr_bin_pred, y_test_bin, \"b.\")\n",
    "plt.plot(x, y, \"r-\")\n",
    "plt.xlabel(\"$E_A$ ML [eV]\")\n",
    "plt.ylabel(\"$E_A$ DFT [eV]\")\n",
    "plt.xlim(xmin=min(krr_bin_pred), xmax=max(krr_bin_pred))\n",
    "plt.ylim(ymin=min(y_test_bin), ymax=max(y_test_bin))\n",
    "ax.set_aspect(\"equal\")\n",
    "plt.savefig(f\"{ROOT_DIR}/data/images/krr_bin_pred.png\")\n",
    "plt.show()"
   ]
  },
  {
   "cell_type": "markdown",
   "metadata": {},
   "source": [
    "### Random Forest"
   ]
  },
  {
   "cell_type": "code",
   "execution_count": 47,
   "metadata": {},
   "outputs": [
    {
     "name": "stdout",
     "output_type": "stream",
     "text": [
      "Fitting 5 folds for each of 400 candidates, totalling 2000 fits\n",
      "Fitting 5 folds for each of 400 candidates, totalling 2000 fits\n"
     ]
    },
    {
     "data": {
      "text/plain": [
       "RandomizedSearchCV(cv=5, estimator=RandomForestRegressor(), n_iter=400,\n",
       "                   n_jobs=-1,\n",
       "                   param_distributions={'max_depth': [10, 20, 30, 40, None],\n",
       "                                        'max_features': ['auto', 'sqrt',\n",
       "                                                         'log2'],\n",
       "                                        'min_samples_leaf': [1, 2, 5, 10, 15,\n",
       "                                                             20],\n",
       "                                        'min_samples_split': [2, 5, 10, 15, 20],\n",
       "                                        'n_estimators': [50, 100, 150, 200, 250,\n",
       "                                                         300]},\n",
       "                   verbose=1)"
      ]
     },
     "execution_count": 47,
     "metadata": {},
     "output_type": "execute_result"
    }
   ],
   "source": [
    "n_estimators = [50, 100, 150, 200, 250, 300]\n",
    "max_features = [\"auto\", \"sqrt\", \"log2\"]\n",
    "max_depth = [10, 20, 30, 40]\n",
    "max_depth.append(None)\n",
    "min_samples_split = [2, 5, 10, 15, 20]\n",
    "min_samples_leaf = [1, 2, 5, 10, 15, 20]\n",
    "\n",
    "param_grid = {\n",
    "    \"n_estimators\": n_estimators,\n",
    "    \"max_features\": max_features,\n",
    "    \"max_depth\": max_depth,\n",
    "    \"min_samples_split\": min_samples_split,\n",
    "    \"min_samples_leaf\": min_samples_leaf\n",
    "}\n",
    "\n",
    "rfr_enc = RandomizedSearchCV(RFR(), param_distributions=param_grid, n_iter=400, cv=5, verbose=1, n_jobs=-1)\n",
    "rfr_enc.fit(X_train_enc, y_train_enc)\n",
    "\n",
    "rfr_bin = RandomizedSearchCV(RFR(), param_distributions=param_grid, n_iter=400, cv=5, verbose=1, n_jobs=-1)\n",
    "rfr_bin.fit(X_train_bin, y_train_bin)"
   ]
  },
  {
   "cell_type": "code",
   "execution_count": 48,
   "metadata": {},
   "outputs": [
    {
     "name": "stdout",
     "output_type": "stream",
     "text": [
      "Random Forest score with label encoded data: 0.9045524895605336, using parameters: {'bootstrap': True, 'ccp_alpha': 0.0, 'criterion': 'mse', 'max_depth': None, 'max_features': 'log2', 'max_leaf_nodes': None, 'max_samples': None, 'min_impurity_decrease': 0.0, 'min_impurity_split': None, 'min_samples_leaf': 1, 'min_samples_split': 2, 'min_weight_fraction_leaf': 0.0, 'n_estimators': 300, 'n_jobs': None, 'oob_score': False, 'random_state': None, 'verbose': 0, 'warm_start': False}\n",
      "Random Forest score with label binarized data: 0.9052001179537059, using parameters: {'bootstrap': True, 'ccp_alpha': 0.0, 'criterion': 'mse', 'max_depth': 30, 'max_features': 'auto', 'max_leaf_nodes': None, 'max_samples': None, 'min_impurity_decrease': 0.0, 'min_impurity_split': None, 'min_samples_leaf': 1, 'min_samples_split': 2, 'min_weight_fraction_leaf': 0.0, 'n_estimators': 150, 'n_jobs': None, 'oob_score': False, 'random_state': None, 'verbose': 0, 'warm_start': False}\n"
     ]
    }
   ],
   "source": [
    "rfr_enc_best = rfr_enc.best_estimator_\n",
    "rfr_enc_score = rfr_enc_best.score(X_test_enc, y_test_enc)\n",
    "rfr_enc_pred = rfr_enc_best.predict(X_test_enc)\n",
    "\n",
    "rfr_bin_best = rfr_bin.best_estimator_\n",
    "rfr_bin_score = rfr_bin_best.score(X_test_bin, y_test_bin)\n",
    "rfr_bin_pred = rfr_bin_best.predict(X_test_bin)\n",
    "\n",
    "print(f\"Random Forest score with label encoded data: {rfr_enc_score}, using parameters: {rfr_enc_best.get_params()}\")\n",
    "print(f\"Random Forest score with label binarized data: {rfr_bin_score}, using parameters: {rfr_bin_best.get_params()}\")"
   ]
  },
  {
   "cell_type": "code",
   "execution_count": 54,
   "metadata": {},
   "outputs": [
    {
     "data": {
      "image/png": "[encoded data removed]",
      "text/plain": [
       "<Figure size 432x288 with 1 Axes>"
      ]
     },
     "metadata": {
      "needs_background": "light"
     },
     "output_type": "display_data"
    }
   ],
   "source": [
    "res = linregress(rfr_enc_pred, y_test_enc)\n",
    "x = np.arange(0, 8, 1)\n",
    "y = x*res[0] + res[1]\n",
    "fig = plt.figure()\n",
    "ax = fig.add_subplot(111)\n",
    "plt.plot(rfr_enc_pred, y_test_enc, \"b.\")\n",
    "plt.plot(x, y, \"r-\")\n",
    "plt.xlabel(\"E$_A$ ML [eV]\")\n",
    "plt.ylabel(\"E$_A$ DFT [eV]\")\n",
    "plt.xlim(xmin=min(rfr_enc_pred), xmax=max(rfr_enc_pred))\n",
    "plt.ylim(ymin=min(y_test_enc), ymax=max(y_test_enc))\n",
    "ax.set_aspect(\"equal\")\n",
    "plt.savefig(f\"{ROOT_DIR}/data/images/rfr_enc_pred.png\")\n",
    "plt.show()"
   ]
  },
  {
   "cell_type": "code",
   "execution_count": 55,
   "metadata": {},
   "outputs": [
    {
     "data": {
      "image/png": "[encoded data removed]",
      "text/plain": [
       "<Figure size 432x288 with 1 Axes>"
      ]
     },
     "metadata": {
      "needs_background": "light"
     },
     "output_type": "display_data"
    }
   ],
   "source": [
    "res = linregress(rfr_bin_pred, y_test_bin)\n",
    "x = np.arange(0, 8, 1)\n",
    "y = x*res[0] + res[1]\n",
    "fig = plt.figure()\n",
    "ax = fig.add_subplot(111)\n",
    "plt.plot(rfr_bin_pred, y_test_bin, \"b.\")\n",
    "plt.plot(x, y, \"r-\")\n",
    "plt.xlabel(\"E$_A$ ML [eV]\")\n",
    "plt.ylabel(\"E$_A$ DFT [eV]\")\n",
    "plt.xlim(xmin=min(rfr_bin_pred), xmax=max(rfr_bin_pred))\n",
    "plt.ylim(ymin=min(y_test_bin), ymax=max(y_test_bin))\n",
    "ax.set_aspect(\"equal\")\n",
    "plt.savefig(f\"{ROOT_DIR}/data/images/rfr_bin_pred.png\")\n",
    "plt.show()"
   ]
  },
  {
   "cell_type": "markdown",
   "metadata": {},
   "source": [
    "### Save the trained models"
   ]
  },
  {
   "cell_type": "code",
   "execution_count": 58,
   "metadata": {},
   "outputs": [],
   "source": [
    "# Save the label encoded RFR model\n",
    "with open(f\"{ROOT_DIR}/data/rfr_enc.pkl\", \"wb\") as rfr_enc_file:\n",
    "    pickle.dump(rfr_enc_best, rfr_enc_file)\n",
    "    \n",
    "# Save the label binarized RFR model\n",
    "with open(f\"{ROOT_DIR}/data/rfr_bin.pkl\", \"wb\") as rfr_bin_file:\n",
    "    pickle.dump(rfr_bin_best, rfr_bin_file)\n",
    "    \n",
    "# Save the label encoded KRR model\n",
    "with open(f\"{ROOT_DIR}/data/krr_enc.pkl\", \"wb\") as krr_enc_file:\n",
    "    pickle.dump(krr_enc_best, krr_enc_file)\n",
    "    \n",
    "# Save the label binarized KRR model\n",
    "with open(f\"{ROOT_DIR}/data/krr_bin.pkl\", \"wb\") as krr_bin_file:\n",
    "    pickle.dump(krr_bin_best, krr_bin_file)"
   ]
  },
  {
   "cell_type": "markdown",
   "metadata": {},
   "source": [
    "## Inspect the freature importances"
   ]
  },
  {
   "cell_type": "code",
   "execution_count": 57,
   "metadata": {},
   "outputs": [
    {
     "data": {
      "image/png": "[encoded data removed]",
      "text/plain": [
       "<Figure size 432x288 with 1 Axes>"
      ]
     },
     "metadata": {
      "needs_background": "light"
     },
     "output_type": "display_data"
    }
   ],
   "source": [
    "fimportances = rfr_enc_best.feature_importances_\n",
    "fi_data = np.array([X_train_enc.columns,fimportances]).T\n",
    "fi_data = fi_data[fi_data[:,1].argsort()]\n",
    "\n",
    "plt.barh(fi_data[:,0], fi_data[:,1])\n",
    "plt.xlabel(\"Feature weight\")\n",
    "plt.savefig(f\"{ROOT_DIR}/data/images/feature_importances.png\", bbox_inches=\"tight\")\n",
    "plt.show()"
   ]
  }
 ],
 "metadata": {
  "kernelspec": {
   "display_name": "Python 3",
   "language": "python",
   "name": "python3"
  },
  "language_info": {
   "codemirror_mode": {
    "name": "ipython",
    "version": 3
   },
   "file_extension": ".py",
   "mimetype": "text/x-python",
   "name": "python",
   "nbconvert_exporter": "python",
   "pygments_lexer": "ipython3",
   "version": "3.8.8"
  }
 },
 "nbformat": 4,
 "nbformat_minor": 4
}
