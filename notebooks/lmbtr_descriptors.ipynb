{
 "cells": [
  {
   "cell_type": "markdown",
   "id": "artificial-noise",
   "metadata": {},
   "source": [
    "### Construct descriptors from structure data"
   ]
  },
  {
   "cell_type": "code",
   "execution_count": 26,
   "id": "9ac7a72b-ef3a-4beb-b1a9-a52e1e59dbb4",
   "metadata": {},
   "outputs": [],
   "source": [
    "# Imports\n",
    "import os\n",
    "import json\n",
    "import numpy as np\n",
    "from ase.io import read\n",
    "from ase import Atoms\n",
    "from preprocess import load_json\n",
    "from dscribe.descriptors import LMBTR\n",
    "\n",
    "ROOT_DIR = os.getcwd()"
   ]
  },
  {
   "cell_type": "code",
   "execution_count": 18,
   "id": "closing-belgium",
   "metadata": {},
   "outputs": [
    {
     "name": "stdout",
     "output_type": "stream",
     "text": [
      "Loaded 1431 corresponding structure lists.\n"
     ]
    }
   ],
   "source": [
    "# Load the structure data for Catalysis-hub data, and\n",
    "# convert the structures into lists of ase.Atoms objects,\n",
    "# where each list of Atoms objects represents one reaction.\n",
    "# The reactions and the corresponding structures are in\n",
    "# the same order.\n",
    "\n",
    "with open(f\"{ROOT_DIR}/data/reactions_cathub.json\", \"r\") as file:\n",
    "    STRUCT_DATA = json.load(file)\n",
    "    \n",
    "KEYS = list(STRUCT_DATA.keys())\n",
    "STRUCTURES = []\n",
    "for key in KEYS:\n",
    "    structs = STRUCT_DATA[key][\"structures\"]\n",
    "    reaction_structures = []\n",
    "    for struct in structs:\n",
    "        struct_dict = {}\n",
    "        with open(f\"{ROOT_DIR}/data/struct_tmp.xyz\", \"w\") as f:\n",
    "            f.write(struct[\"InputFile\"])\n",
    "        atoms = read(f\"{ROOT_DIR}/data/struct_tmp.xyz\")\n",
    "        struct_dict[\"atoms\"] = atoms\n",
    "        struct_dict[\"energy\"] = struct[\"energy\"]\n",
    "        reaction_structures.append(struct_dict)\n",
    "    STRUCTURES.append(reaction_structures)\n",
    "os.remove(f\"{ROOT_DIR}/data/struct_tmp.xyz\")\n",
    "\n",
    "print(f\"Loaded {len(STRUCTURES)} corresponding structure lists.\")"
   ]
  },
  {
   "cell_type": "code",
   "execution_count": 21,
   "id": "purple-logging",
   "metadata": {},
   "outputs": [],
   "source": [
    "def get_init_fin_structures(structure):\n",
    "    \"\"\"\n",
    "    The function finds the initial and final structures from a set of\n",
    "    structures describing the given reaction. Only structures comprising\n",
    "    more than 10 atoms are used to discard any structures that do not\n",
    "    describe the whole system. From these, the first and the last\n",
    "    structure are chosen as the initial and final structures, respectively.\n",
    "    \n",
    "    Note: This method might be incorrect, as some structures might have\n",
    "    10 or more atoms, but still describe an incomplete adsorbed system.\n",
    "    Also, the order of the structures is not confirmed, so the first and\n",
    "    the last structures might not correctly represent the initial and\n",
    "    final configurations of the system.\n",
    "    \n",
    "    Params:\n",
    "      structure (list):  A list of dictionaries describing the individual\n",
    "                          structures of the reaction.\n",
    "    Returns:\n",
    "      ret (list):        A list containing the dictionaries for the first\n",
    "                          and the last structure in the reaction.\n",
    "      None:              If there are less than two structures available.\n",
    "    \"\"\"\n",
    "    \n",
    "    struct_list = []\n",
    "    # Select only structures that have at least 10 atoms\n",
    "    for i,struct in enumerate(structure):\n",
    "        if len(struct[\"atoms\"]) >= 10:\n",
    "            struct_list.append(struct)\n",
    "    # Return the first and the last structure only if more than two\n",
    "    # structures are found\n",
    "    if len(struct_list) > 1:\n",
    "        ret = [struct_list[0], struct_list[-1]]\n",
    "    else:\n",
    "        ret = None\n",
    "        \n",
    "    return ret"
   ]
  },
  {
   "cell_type": "code",
   "execution_count": 20,
   "id": "deadly-month",
   "metadata": {
    "tags": []
   },
   "outputs": [
    {
     "name": "stdout",
     "output_type": "stream",
     "text": [
      "Loaded 1431 reactions from file /home/hlappal/projects/catalysis_data_project/data/reactions_cathub.json\n",
      "Found 506 reactions with initial and final configurations.\n"
     ]
    }
   ],
   "source": [
    "# Get the initial and final configurations from reactions\n",
    "INIT_FIN_STRUCTURES = []\n",
    "INDICES = []\n",
    "for i,struct in enumerate(STRUCTURES):\n",
    "    res = get_init_fin_structures(struct)\n",
    "    if res:\n",
    "        INIT_FIN_STRUCTURES.append(res)\n",
    "        INDICES.append(i)\n",
    "\n",
    "INIT_FIN_STRUCTURES = np.array(INIT_FIN_STRUCTURES)\n",
    "DF_CATHUB_RAW = load_json(f\"{ROOT_DIR}/data/reactions_cathub.json\")\n",
    "INIT_FIN_DATA = DF_CATHUB_RAW.iloc[INDICES]\n",
    "\n",
    "print(f\"Found {len(INIT_FIN_STRUCTURES)} reactions with initial and final configurations.\")"
   ]
  },
  {
   "cell_type": "code",
   "execution_count": 22,
   "id": "speaking-dodge",
   "metadata": {
    "scrolled": true
   },
   "outputs": [],
   "source": [
    "def build_struct_descriptor(structure):\n",
    "    \"\"\"\n",
    "    The function builds a combined LMBTR-based descriptor for a given reaction.\n",
    "    The descriptor consists of two individual LMBTR descriptors that are\n",
    "    concatenated into a single 1D array.\n",
    "    \n",
    "    Params:\n",
    "      structure (list):     The dictionaries for the first and the last configuration.\n",
    "    Returns:\n",
    "      total_lmbtr (array):  Numpy array of the combined LMBTR descriptors.\n",
    "    \"\"\"\n",
    "    \n",
    "    init_struct = Atoms(structure[0][\"atoms\"])\n",
    "    fin_struct  = Atoms(structure[1][\"atoms\"])\n",
    "    species = []\n",
    "    species.extend(init_struct.get_chemical_symbols())\n",
    "    species.extend(fin_struct.get_chemical_symbols())\n",
    "    species = list(dict.fromkeys(species))\n",
    "    periodic = init_struct.get_pbc().any()\n",
    "    lmbtr = LMBTR(\n",
    "        species=species,\n",
    "        k2={\n",
    "            \"geometry\": {\"function\": \"distance\"},\n",
    "            \"grid\": {\"min\": 0, \"max\": 5, \"n\": 50, \"sigma\": 0.005},\n",
    "            \"weighting\": {\"function\": \"exponential\", \"scale\": 0.5, \"cutoff\": 1e-3},\n",
    "        },\n",
    "        k3={\n",
    "            \"geometry\": {\"function\": \"angle\"},\n",
    "            \"grid\": {\"min\": 0, \"max\": 180, \"n\": 50, \"sigma\": 0.005},\n",
    "            \"weighting\": {\"function\": \"exponential\", \"scale\": 0.5, \"cutoff\": 1e-3},\n",
    "        },\n",
    "        periodic=periodic,\n",
    "        normalization=\"l2_each\",\n",
    "    )\n",
    "    init_lmbtr = lmbtr.create(init_struct).flatten()\n",
    "    fin_lmbtr = lmbtr.create(fin_struct).flatten()\n",
    "    total_lmbtr = np.concatenate((init_lmbtr, fin_lmbtr), axis=None)\n",
    "    \n",
    "    return total_lmbtr"
   ]
  },
  {
   "cell_type": "code",
   "execution_count": 27,
   "id": "frozen-torture",
   "metadata": {
    "tags": []
   },
   "outputs": [
    {
     "name": "stdout",
     "output_type": "stream",
     "text": [
      "Built 506 descriptors with corresponding targets\n"
     ]
    }
   ],
   "source": [
    "# Build a list of structural descriptors and the corresponding activation energies\n",
    "DESCRIPTORS = []\n",
    "TARGETS = []\n",
    "for i in range(len(INIT_FIN_STRUCTURES)):\n",
    "    descr = build_struct_descriptor(INIT_FIN_STRUCTURES[i])\n",
    "    DESCRIPTORS.append(descr)\n",
    "    TARGETS.append(INIT_FIN_DATA.iloc[i][\"activationEnergy\"])\n",
    "print(f\"Built {len(DESCRIPTORS)} descriptors with corresponding targets\")"
   ]
  },
  {
   "cell_type": "code",
   "execution_count": null,
   "id": "present-jacob",
   "metadata": {},
   "outputs": [
    {
     "name": "stdout",
     "output_type": "stream",
     "text": [
      "Number of features: 296000\n"
     ]
    }
   ],
   "source": [
    "# Pad ragged lists with zeros\n",
    "MAX_LEN = 0\n",
    "for row in DESCRIPTORS:\n",
    "    if len(row) > MAX_LEN:\n",
    "        MAX_LEN = len(row)\n",
    "print(f\"Number of features: {MAX_LEN}\")\n",
    "for i,row in enumerate(DESCRIPTORS):\n",
    "    DESCRIPTORS[i] = list(row) + [0 for i in range(MAX_LEN - len(row))]\n",
    "DESCRIPTORS = np.array(DESCRIPTORS)"
   ]
  },
  {
   "cell_type": "code",
   "execution_count": null,
   "id": "incomplete-packet",
   "metadata": {},
   "outputs": [],
   "source": [
    "# Save the LMBTR structure descriptors and targets\n",
    "np.savetxt(f\"{ROOT_DIR}/data/structure_descriptors.txt\", DESCRIPTORS)\n",
    "np.savetxt(f\"{ROOT_DIR}/data/structure_targets.txt\", TARGETS)"
   ]
  }
 ],
 "metadata": {
  "kernelspec": {
   "display_name": "Python 3",
   "language": "python",
   "name": "python3"
  },
  "language_info": {
   "codemirror_mode": {
    "name": "ipython",
    "version": 3
   },
   "file_extension": ".py",
   "mimetype": "text/x-python",
   "name": "python",
   "nbconvert_exporter": "python",
   "pygments_lexer": "ipython3",
   "version": "3.8.8"
  }
 },
 "nbformat": 4,
 "nbformat_minor": 5
}
