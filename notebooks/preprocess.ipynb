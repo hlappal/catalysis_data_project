{
 "cells": [
  {
   "cell_type": "markdown",
   "metadata": {},
   "source": [
    "# Data preprocessing\n",
    "\n",
    "Functions for the catalysis reaction data preprocessing. The functions are quite ad hoc, and suited only for the raw data acquired from the Catalysis-hub and the CatApp catalysis reaction databases."
   ]
  },
  {
   "cell_type": "code",
   "execution_count": 1,
   "metadata": {},
   "outputs": [],
   "source": [
    "# Imports\n",
    "import numpy as np\n",
    "import pandas as pd\n",
    "import json\n",
    "import sys\n",
    "import os\n",
    "from ase.visualize import view\n",
    "from ase.io import read\n",
    "from ase import Atoms\n",
    "from dscribe.descriptors import LMBTR\n",
    "\n",
    "# Define the project root directory\n",
    "ROOT_DIR = os.getcwd()"
   ]
  },
  {
   "cell_type": "code",
   "execution_count": 2,
   "metadata": {},
   "outputs": [],
   "source": [
    "def load_json(filename):\n",
    "    \"\"\"\n",
    "    Loads data from a Json file into pandas DataFrame.\n",
    "    \n",
    "    Params:\n",
    "      filename (string):      Name of the Json datafile.\n",
    "    Returns:\n",
    "      df (pandas DataFrame):  The loaded data.\n",
    "      None:                   If no data file is found.\n",
    "    \"\"\"\n",
    "    \n",
    "    with open(filename, \"r\") as file:\n",
    "        data = json.load(file)\n",
    "        df = pd.DataFrame()\n",
    "        if \"catapp\" in filename:\n",
    "            # Handle CatApp data\n",
    "            for key in data:\n",
    "                df = df.append(data[key], ignore_index=True)\n",
    "        elif \"cathub\" in filename:\n",
    "            # Handle Catalysis-hub data\n",
    "            for key in data:\n",
    "                df = df.append(data[key][\"key_value_pairs\"], ignore_index=True)\n",
    "        else:\n",
    "            print(f\"No such file: {filename}\")\n",
    "            return None\n",
    "    \n",
    "    print(f\"Loaded {len(data)} reactions from file {filename}\")\n",
    "    \n",
    "    return df"
   ]
  },
  {
   "cell_type": "code",
   "execution_count": 3,
   "metadata": {},
   "outputs": [],
   "source": [
    "def max_reactants_products(df, max_reactants, max_products):\n",
    "    \"\"\"\n",
    "    Finds the maximum number of reactants and products in the reactions.\n",
    "\n",
    "    Params:\n",
    "      df (DataFrame):       The reaction data.\n",
    "      max_reactants (int):  The current maximum number of reactants.\n",
    "      max_products (int):   The current maximum number of products.\n",
    "    Returns:\n",
    "      (tuple of ints):      New maximum number of reactants and products,\n",
    "                             respectively.\n",
    "    \"\"\"\n",
    "    \n",
    "    for r in df.reactants:\n",
    "        rn = len(eval(r))\n",
    "        if rn > max_reactants:\n",
    "            max_reactants = rn\n",
    "    for p in df.products:\n",
    "        pn = len(eval(p))\n",
    "        if pn > max_products:\n",
    "            max_products = pn\n",
    "    \n",
    "    return max_reactants, max_products"
   ]
  },
  {
   "cell_type": "code",
   "execution_count": 4,
   "metadata": {},
   "outputs": [],
   "source": [
    "def parse_reactants_products(df, db_name, max_reactants, max_products):\n",
    "    \"\"\"\n",
    "    Parse the reaction data into a unified format.\n",
    "    \n",
    "    Params:\n",
    "      df (DataFrame):       The raw data from a database as a pandas DataFrame.\n",
    "      df_name (string):     The name of the database.\n",
    "      max_reactants (int):  The maximum number of reactants in the data.\n",
    "      max_products (int):   The maximum number of products in the data.\n",
    "    Returns:\n",
    "      df (DataFrame):       The parsed data as a pandas DataFrame.\n",
    "    \"\"\"\n",
    "    \n",
    "    # Create a list of column names\n",
    "    col_names = []\n",
    "    for i in range(max_reactants):\n",
    "        col_names.append(\"reactant{}\".format(i+1))\n",
    "    for i in range(max_products):\n",
    "        col_names.append(\"product{}\".format(i+1))\n",
    "    col_names.append(\"chemicalComposition\")\n",
    "    col_names.append(\"surfaceComposition\")\n",
    "    col_names.append(\"facet\")\n",
    "    col_names.append(\"sites\")\n",
    "    col_names.append(\"coverage\")\n",
    "    col_names.append(\"Equation\")\n",
    "    col_names.append(\"dftFunctional\")\n",
    "    col_names.append(\"reactionEnergy\")\n",
    "    col_names.append(\"activationEnergy\")\n",
    "        \n",
    "    # Fill in the column values\n",
    "    for i, row in df.iterrows():\n",
    "        if db_name == \"CatApp\":\n",
    "            # Handle CatApp data\n",
    "            df.at[i, \"reactant1\"] = row.reactant_a\n",
    "            df.at[i, \"reactant2\"] = row.reactant_b\n",
    "            df.at[i, \"product1\"] = row.product_ab\n",
    "            facet = row.reactant_facet\n",
    "            surface = row.reactant_surface.replace(facet, \"\")\n",
    "            facet = facet.split(\"(\")[1].split(\")\")[0]\n",
    "            df.at[i, \"facet\"] = facet\n",
    "            df.at[i, \"chemicalComposition\"] = surface\n",
    "            df.at[i, \"sites\"] = row.site\n",
    "            df.at[i, \"reactionEnergy\"] = row.reaction_energy\n",
    "            df.at[i, \"activationEnergy\"] = row.activation_energy\n",
    "        elif db_name == \"Catalysis-hub\":\n",
    "            # Handle Catalysis-hub data\n",
    "            # Parse reactants\n",
    "            reactants = list(eval(row.reactants))\n",
    "            for j in range(len(reactants)):\n",
    "                label = \"reactant{}\".format(j+1)\n",
    "                df.at[i, label] = reactants[j]\n",
    "            # Parse products\n",
    "            products = list(eval(row.products))\n",
    "            for j in range(len(products)):\n",
    "                label = \"product{}\".format(j+1)\n",
    "                df.at[i, label] = products[j]\n",
    "            # Drop the deprecated columns\n",
    "            # Parse adsorption site\n",
    "            if row.sites != \"None\":\n",
    "                sites = list(eval(row.sites).items())\n",
    "                if len(sites) > 1:\n",
    "                    print(\"WARNING: More than one site found!\")\n",
    "                if len(sites) > 0:\n",
    "                    site = sites[0]\n",
    "                    try:\n",
    "                        site = \"-\".join(site)\n",
    "                    except TypeError:\n",
    "                        prefix = \"-\".join(site[1])\n",
    "                        site = \"-\".join([site[0], prefix])\n",
    "                else:\n",
    "                    site = \"None\"\n",
    "                df.at[i, \"sites\"] = site\n",
    "            # Parse coverage\n",
    "            if row.coverages != \"None\":\n",
    "                coverage = list(eval(row.coverages).items())\n",
    "                df.at[i, \"coverages\"] = coverages\n",
    "            # Drop unneeded columns\n",
    "            drop_names = [\"dftCode\", \"id\", \"pubId\", \"username\",\n",
    "                          \"reactants\", \"products\"]\n",
    "            for name in drop_names:\n",
    "                try:\n",
    "                    df = df.drop(name, axis=1)\n",
    "                except KeyError:\n",
    "                    pass\n",
    "        else:\n",
    "            print(\"Invalid database name\")\n",
    "    # Go through columns and record missing values\n",
    "    for name in col_names:\n",
    "        if name not in df:\n",
    "            df[name] = \"None\"\n",
    "    df = df[col_names]\n",
    "    \n",
    "    return df"
   ]
  },
  {
   "cell_type": "code",
   "execution_count": 5,
   "metadata": {},
   "outputs": [
    {
     "name": "stdout",
     "output_type": "stream",
     "text": [
      "Loaded 1431 reactions from file /home/hlappal/projects/catalysis_data_project/data/reactions_cathub.json\n",
      "Loaded 2306 reactions from file /home/hlappal/projects/catalysis_data_project/data/reactions_catapp.json\n"
     ]
    }
   ],
   "source": [
    "# Load the Catalysis-hub and CatApp raw data\n",
    "df_cathub_raw = load_json(f\"{ROOT_DIR}/data/reactions_cathub.json\")\n",
    "df_catapp_raw = load_json(f\"{ROOT_DIR}/data/reactions_catapp.json\")"
   ]
  },
  {
   "cell_type": "code",
   "execution_count": 6,
   "metadata": {},
   "outputs": [
    {
     "name": "stdout",
     "output_type": "stream",
     "text": [
      "Max reactants: 3, Max products: 3\n"
     ]
    }
   ],
   "source": [
    "# Find the maximum number of reactants and products from the Catalysis-hub data.\n",
    "# Note: The number of reactants/products is fixed in the CatApp data. This is why Catalysis-hub data is used.\n",
    "max_reactants, max_products = max_reactants_products(df_cathub_raw, 0, 0)\n",
    "print(f\"Max reactants: {max_reactants}, Max products: {max_products}\")"
   ]
  },
  {
   "cell_type": "code",
   "execution_count": 7,
   "metadata": {},
   "outputs": [],
   "source": [
    "# Parse and combine the datasets\n",
    "df_cathub_copy = parse_reactants_products(df_cathub_raw, \"Catalysis-hub\", max_reactants, max_products)\n",
    "df_catapp_copy = parse_reactants_products(df_catapp_raw, \"CatApp\", max_reactants, max_products)\n",
    "df = df_cathub_copy.append(df_catapp_copy, ignore_index=True, sort=False)"
   ]
  },
  {
   "cell_type": "code",
   "execution_count": 8,
   "metadata": {},
   "outputs": [
    {
     "data": {
      "image/png": "[encoded data removed]",
      "text/plain": [
       "<Figure size 432x288 with 1 Axes>"
      ]
     },
     "metadata": {
      "needs_background": "light"
     },
     "output_type": "display_data"
    }
   ],
   "source": [
    "# Plot the data before cleaning\n",
    "import matplotlib.pyplot as plt\n",
    "\n",
    "plt.plot(df[\"reactionEnergy\"], df[\"activationEnergy\"], \"b.\")\n",
    "plt.xlabel(\"Reaction energy [eV]\")\n",
    "plt.ylabel(\"Activation energy [eV]\")\n",
    "plt.savefig(f\"{ROOT_DIR}/data/images/er_ea_correlation_raw.png\")\n",
    "plt.show()"
   ]
  },
  {
   "cell_type": "markdown",
   "metadata": {},
   "source": [
    "### Clean up the data"
   ]
  },
  {
   "cell_type": "code",
   "execution_count": 9,
   "metadata": {},
   "outputs": [],
   "source": [
    "# Unify notation\n",
    "df = df.replace({\"star\": \"*\"}, regex=True)\n",
    "df = df.replace({\"gas\": \"\"}, regex=True)\n",
    "df = df.replace(np.nan, \"None\")"
   ]
  },
  {
   "cell_type": "code",
   "execution_count": 10,
   "metadata": {},
   "outputs": [
    {
     "name": "stdout",
     "output_type": "stream",
     "text": [
      "Removed 8 data points\n"
     ]
    }
   ],
   "source": [
    "# Drop duplicate data points\n",
    "shape = df.shape\n",
    "df = df.drop_duplicates(ignore_index=True)\n",
    "print(f\"Removed {shape[0] - df.shape[0]} data points\")"
   ]
  },
  {
   "cell_type": "code",
   "execution_count": 11,
   "metadata": {},
   "outputs": [
    {
     "name": "stdout",
     "output_type": "stream",
     "text": [
      "Removed empty columns: ['coverage']\n"
     ]
    }
   ],
   "source": [
    "# Find and drop empty columns\n",
    "removed = []\n",
    "for col in df.keys():\n",
    "    if (df[col] == \"None\").all():\n",
    "        df = df.drop(col, axis=1)\n",
    "        removed.append(col)\n",
    "print(f\"Removed empty columns: {[col for col in removed]}\")"
   ]
  },
  {
   "cell_type": "code",
   "execution_count": 12,
   "metadata": {
    "scrolled": true
   },
   "outputs": [],
   "source": [
    "def rename_columns(df):\n",
    "    \"\"\"\n",
    "    The function renames the columns into more readable form.\n",
    "    \n",
    "    Params:\n",
    "      df (DataFrame):  The data.\n",
    "    Returns:\n",
    "      df (DataFrame):  The data.\n",
    "    \"\"\"\n",
    "    \n",
    "    df.rename(columns = {\n",
    "        \"reactant1\": \"Reactant 1\",\n",
    "        \"reactant2\": \"Reactant 2\",\n",
    "        \"reactant3\": \"Reactant 3\",\n",
    "        \"product1\": \"Product 1\",\n",
    "        \"product2\": \"Product 2\",\n",
    "        \"product3\": \"Product 3\",\n",
    "        \"chemicalComposition\": \"Chemical Composition\",\n",
    "        \"surfaceComposition\": \"Surface Composition\",\n",
    "        \"facet\": \"Facet\",\n",
    "        \"sites\": \"Adsorption Site\",\n",
    "        \"Equation\": \"Reaction Equation\",\n",
    "        \"dftFunctional\": \"DFT Functional\",\n",
    "        \"reactionEnergy\": \"Reaction Energy\",\n",
    "        \"activationEnergy\": \"Activation Energy\"\n",
    "    }, inplace=True)\n",
    "    \n",
    "    return df"
   ]
  },
  {
   "cell_type": "code",
   "execution_count": 13,
   "metadata": {},
   "outputs": [
    {
     "data": {
      "text/html": [
       "<div>\n",
       "<style scoped>\n",
       "    .dataframe tbody tr th:only-of-type {\n",
       "        vertical-align: middle;\n",
       "    }\n",
       "\n",
       "    .dataframe tbody tr th {\n",
       "        vertical-align: top;\n",
       "    }\n",
       "\n",
       "    .dataframe thead th {\n",
       "        text-align: right;\n",
       "    }\n",
       "</style>\n",
       "<table border=\"1\" class=\"dataframe\">\n",
       "  <thead>\n",
       "    <tr style=\"text-align: right;\">\n",
       "      <th></th>\n",
       "      <th>Reactant 1</th>\n",
       "      <th>Reactant 2</th>\n",
       "      <th>Reactant 3</th>\n",
       "      <th>Product 1</th>\n",
       "      <th>Product 2</th>\n",
       "      <th>Product 3</th>\n",
       "      <th>Chemical Composition</th>\n",
       "      <th>Surface Composition</th>\n",
       "      <th>Facet</th>\n",
       "      <th>Adsorption Site</th>\n",
       "      <th>Reaction Equation</th>\n",
       "      <th>DFT Functional</th>\n",
       "      <th>Reaction Energy</th>\n",
       "      <th>Activation Energy</th>\n",
       "    </tr>\n",
       "  </thead>\n",
       "  <tbody>\n",
       "    <tr>\n",
       "      <th>0</th>\n",
       "      <td>H2Oaq</td>\n",
       "      <td>H*</td>\n",
       "      <td>None</td>\n",
       "      <td>OHaq</td>\n",
       "      <td>*</td>\n",
       "      <td>H2</td>\n",
       "      <td>NaPt27H24O12</td>\n",
       "      <td>Pt</td>\n",
       "      <td>111</td>\n",
       "      <td>None</td>\n",
       "      <td>H2Oaq + H* -&gt; H2(g) + OHaq + *</td>\n",
       "      <td>BEEF-vdW</td>\n",
       "      <td>1.584128</td>\n",
       "      <td>2.079705</td>\n",
       "    </tr>\n",
       "    <tr>\n",
       "      <th>1</th>\n",
       "      <td>*</td>\n",
       "      <td>H*</td>\n",
       "      <td>None</td>\n",
       "      <td>*</td>\n",
       "      <td>H2</td>\n",
       "      <td>None</td>\n",
       "      <td>NaPt27H24O12</td>\n",
       "      <td>Pt</td>\n",
       "      <td>111</td>\n",
       "      <td>None</td>\n",
       "      <td>H* + * -&gt; H2(g) + 3*</td>\n",
       "      <td>BEEF-vdW</td>\n",
       "      <td>0.520276</td>\n",
       "      <td>0.618718</td>\n",
       "    </tr>\n",
       "    <tr>\n",
       "      <th>2</th>\n",
       "      <td>*</td>\n",
       "      <td>CH2C*</td>\n",
       "      <td>None</td>\n",
       "      <td>C*</td>\n",
       "      <td>CH2*</td>\n",
       "      <td>None</td>\n",
       "      <td>Ag30</td>\n",
       "      <td>Ag</td>\n",
       "      <td>111</td>\n",
       "      <td>None</td>\n",
       "      <td>CH2C* + * -&gt; CH2* + C*</td>\n",
       "      <td>BEEF-vdW</td>\n",
       "      <td>3.701011</td>\n",
       "      <td>4.165724</td>\n",
       "    </tr>\n",
       "    <tr>\n",
       "      <th>3</th>\n",
       "      <td>N2</td>\n",
       "      <td>None</td>\n",
       "      <td>None</td>\n",
       "      <td>N*</td>\n",
       "      <td>None</td>\n",
       "      <td>None</td>\n",
       "      <td>Pt</td>\n",
       "      <td>Pt</td>\n",
       "      <td>211</td>\n",
       "      <td>None</td>\n",
       "      <td>N2(g) -&gt; N*</td>\n",
       "      <td>RPBE</td>\n",
       "      <td>1.350000</td>\n",
       "      <td>2.550000</td>\n",
       "    </tr>\n",
       "    <tr>\n",
       "      <th>4</th>\n",
       "      <td>CO2*</td>\n",
       "      <td>None</td>\n",
       "      <td>None</td>\n",
       "      <td>CO2*</td>\n",
       "      <td>None</td>\n",
       "      <td>None</td>\n",
       "      <td>Au27NaH10O5</td>\n",
       "      <td>Au</td>\n",
       "      <td>211</td>\n",
       "      <td>CO2-H2O-topadiabatic</td>\n",
       "      <td>CO2* -&gt; CO2*</td>\n",
       "      <td>RPBE</td>\n",
       "      <td>0.353636</td>\n",
       "      <td>0.482330</td>\n",
       "    </tr>\n",
       "  </tbody>\n",
       "</table>\n",
       "</div>"
      ],
      "text/plain": [
       "  Reactant 1 Reactant 2 Reactant 3 Product 1 Product 2 Product 3  \\\n",
       "0      H2Oaq         H*       None      OHaq         *        H2   \n",
       "1          *         H*       None         *        H2      None   \n",
       "2          *      CH2C*       None        C*      CH2*      None   \n",
       "3         N2       None       None        N*      None      None   \n",
       "4       CO2*       None       None      CO2*      None      None   \n",
       "\n",
       "  Chemical Composition Surface Composition Facet       Adsorption Site  \\\n",
       "0         NaPt27H24O12                  Pt   111                  None   \n",
       "1         NaPt27H24O12                  Pt   111                  None   \n",
       "2                 Ag30                  Ag   111                  None   \n",
       "3                   Pt                  Pt   211                  None   \n",
       "4          Au27NaH10O5                  Au   211  CO2-H2O-topadiabatic   \n",
       "\n",
       "                Reaction Equation DFT Functional  Reaction Energy  \\\n",
       "0  H2Oaq + H* -> H2(g) + OHaq + *       BEEF-vdW         1.584128   \n",
       "1            H* + * -> H2(g) + 3*       BEEF-vdW         0.520276   \n",
       "2          CH2C* + * -> CH2* + C*       BEEF-vdW         3.701011   \n",
       "3                     N2(g) -> N*           RPBE         1.350000   \n",
       "4                    CO2* -> CO2*           RPBE         0.353636   \n",
       "\n",
       "   Activation Energy  \n",
       "0           2.079705  \n",
       "1           0.618718  \n",
       "2           4.165724  \n",
       "3           2.550000  \n",
       "4           0.482330  "
      ]
     },
     "execution_count": 13,
     "metadata": {},
     "output_type": "execute_result"
    }
   ],
   "source": [
    "# Rename the columns\n",
    "df = rename_columns(df)\n",
    "df.head()"
   ]
  },
  {
   "cell_type": "markdown",
   "metadata": {},
   "source": [
    "### Don't use reactions with improper activation energies"
   ]
  },
  {
   "cell_type": "code",
   "execution_count": 14,
   "metadata": {},
   "outputs": [
    {
     "name": "stdout",
     "output_type": "stream",
     "text": [
      "Removed 722 data points\n",
      "Data shape: (3007, 14)\n"
     ]
    },
    {
     "data": {
      "image/png": "[encoded data removed]",
      "text/plain": [
       "<Figure size 432x288 with 1 Axes>"
      ]
     },
     "metadata": {
      "needs_background": "light"
     },
     "output_type": "display_data"
    }
   ],
   "source": [
    "# Drop reactions with negative activation energy\n",
    "negative_ea = df.iloc[np.where(df[\"Activation Energy\"] < 0)]\n",
    "\n",
    "for i in negative_ea.index:\n",
    "    df = df.drop(i)\n",
    "print(f\"Removed {len(negative_ea.index)} data points\")\n",
    "print(f\"Data shape: {df.shape}\")\n",
    "    \n",
    "plt.plot(negative_ea[\"Reaction Energy\"], negative_ea[\"Activation Energy\"], \"b.\")\n",
    "plt.show()"
   ]
  },
  {
   "cell_type": "code",
   "execution_count": 15,
   "metadata": {},
   "outputs": [
    {
     "name": "stdout",
     "output_type": "stream",
     "text": [
      "Removed 38 data points\n",
      "Data shape: (2969, 14)\n"
     ]
    },
    {
     "data": {
      "image/png": "[encoded data removed]",
      "text/plain": [
       "<Figure size 432x288 with 1 Axes>"
      ]
     },
     "metadata": {
      "needs_background": "light"
     },
     "output_type": "display_data"
    }
   ],
   "source": [
    "# Isolate the negatively linearly correlated data points\n",
    "df_neg_linear = df.iloc[np.where(df[\"Reaction Energy\"] == -df[\"Activation Energy\"])]\n",
    "\n",
    "for i in df_neg_linear.index:\n",
    "    df = df.drop(i)\n",
    "print(f\"Removed {len(df_neg_linear.index)} data points\")\n",
    "print(f\"Data shape: {df.shape}\")\n",
    "\n",
    "plt.plot(df_neg_linear[\"Reaction Energy\"], df_neg_linear[\"Activation Energy\"], \"b.\")\n",
    "plt.show()"
   ]
  },
  {
   "cell_type": "code",
   "execution_count": 16,
   "metadata": {},
   "outputs": [
    {
     "name": "stdout",
     "output_type": "stream",
     "text": [
      "Removed 771 data points\n",
      "Data shape: (2198, 14)\n"
     ]
    },
    {
     "data": {
      "image/png": "[encoded data removed]",
      "text/plain": [
       "<Figure size 432x288 with 1 Axes>"
      ]
     },
     "metadata": {
      "needs_background": "light"
     },
     "output_type": "display_data"
    }
   ],
   "source": [
    "# Isolate the positively linearly correlated data points\n",
    "df_pos_linear = df.iloc[np.where(df[\"Reaction Energy\"] == df[\"Activation Energy\"])]\n",
    "\n",
    "for i in df_pos_linear.index:\n",
    "    df = df.drop(i)\n",
    "print(f\"Removed {len(df_pos_linear.index)} data points\")\n",
    "print(f\"Data shape: {df.shape}\")\n",
    "\n",
    "plt.plot(df_pos_linear[\"Reaction Energy\"], df_pos_linear[\"Activation Energy\"], \"b.\")\n",
    "plt.show()"
   ]
  },
  {
   "cell_type": "code",
   "execution_count": 17,
   "metadata": {},
   "outputs": [
    {
     "name": "stdout",
     "output_type": "stream",
     "text": [
      "Removed 299 data points\n",
      "Data shape: (1899, 14)\n"
     ]
    },
    {
     "data": {
      "image/png": "[encoded data removed]",
      "text/plain": [
       "<Figure size 432x288 with 1 Axes>"
      ]
     },
     "metadata": {
      "needs_background": "light"
     },
     "output_type": "display_data"
    }
   ],
   "source": [
    "# Isolate the zero activation energy data points\n",
    "df_zeros = df.iloc[np.where(df[\"Activation Energy\"] == 0)]\n",
    "\n",
    "for i in df_zeros.index:\n",
    "    df = df.drop(i)\n",
    "print(f\"Removed {len(df_zeros.index)} data points\")\n",
    "print(f\"Data shape: {df.shape}\")\n",
    "\n",
    "plt.plot(df_zeros[\"Reaction Energy\"], df_zeros[\"Activation Energy\"], \"b.\")\n",
    "plt.show()"
   ]
  },
  {
   "cell_type": "code",
   "execution_count": 18,
   "metadata": {},
   "outputs": [],
   "source": [
    "# Save the dataframe\n",
    "df = df.reset_index(drop=True)\n",
    "df.to_pickle(f\"{ROOT_DIR}/data/data.csv\")"
   ]
  },
  {
   "cell_type": "code",
   "execution_count": null,
   "metadata": {},
   "outputs": [],
   "source": []
  }
 ],
 "metadata": {
  "kernelspec": {
   "display_name": "Python 3",
   "language": "python",
   "name": "python3"
  },
  "language_info": {
   "codemirror_mode": {
    "name": "ipython",
    "version": 3
   },
   "file_extension": ".py",
   "mimetype": "text/x-python",
   "name": "python",
   "nbconvert_exporter": "python",
   "pygments_lexer": "ipython3",
   "version": "3.8.8"
  }
 },
 "nbformat": 4,
 "nbformat_minor": 4
}
