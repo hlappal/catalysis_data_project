{
 "cells": [
  {
   "cell_type": "code",
   "execution_count": 1,
   "metadata": {
    "collapsed": false,
    "jupyter": {
     "outputs_hidden": false
    }
   },
   "outputs": [],
   "source": [
    "import matplotlib.pyplot as plt\n",
    "import numpy as np\n",
    "import ase.db\n",
    "import json\n",
    "\n",
    "from ase.visualize import view\n",
    "from sklearn.kernel_ridge import KernelRidge as KRR\n",
    "from sklearn.neighbors import KNeighborsRegressor as KNN"
   ]
  },
  {
   "cell_type": "code",
   "execution_count": 2,
   "metadata": {
    "collapsed": false,
    "jupyter": {
     "outputs_hidden": false
    }
   },
   "outputs": [],
   "source": [
    "# Connect to database\n",
    "con = ase.db.connect(\"catapp.db\")"
   ]
  },
  {
   "cell_type": "code",
   "execution_count": 3,
   "metadata": {},
   "outputs": [
    {
     "name": "stdout",
     "output_type": "stream",
     "text": [
      "All reactions read into file\n"
     ]
    }
   ],
   "source": [
    "reactions = {}\n",
    "\n",
    "i = 0\n",
    "for row in con.select():\n",
    "    try:\n",
    "        reaction = {}\n",
    "        reaction['reactant_a'] = row.a\n",
    "        reaction['reactant_b'] = row.b\n",
    "        reaction['product_ab'] = row.ab\n",
    "        reaction['reactant_surface'] = row.surface\n",
    "        reaction['reactant_facet'] = row.facet\n",
    "        try:\n",
    "            reaction['site'] = row.site\n",
    "        except AttributeError:\n",
    "            reaction['site'] = 'None'\n",
    "        reaction['reaction_energy'] = row.er\n",
    "        reaction['activation_energy'] = row.ea\n",
    "        reaction['dft_functional'] = row.xc\n",
    "        reactions[i] = reaction\n",
    "        i += 1\n",
    "    except AttributeError:\n",
    "        pass\n",
    "\n",
    "with open('../model/reactions_catapp.json', 'w') as f:\n",
    "    json.dump(reactions, f)\n",
    "\n",
    "print('All reactions read into file')"
   ]
  },
  {
   "cell_type": "code",
   "execution_count": null,
   "metadata": {
    "collapsed": false,
    "jupyter": {
     "outputs_hidden": false
    }
   },
   "outputs": [],
   "source": []
  }
 ],
 "metadata": {
  "kernelspec": {
   "display_name": "Python 3",
   "language": "python",
   "name": "python3"
  },
  "language_info": {
   "codemirror_mode": {
    "name": "ipython",
    "version": 3
   },
   "file_extension": ".py",
   "mimetype": "text/x-python",
   "name": "python",
   "nbconvert_exporter": "python",
   "pygments_lexer": "ipython3",
   "version": "3.8.8"
  },
  "name": "catapp.ipynb"
 },
 "nbformat": 4,
 "nbformat_minor": 4
}
