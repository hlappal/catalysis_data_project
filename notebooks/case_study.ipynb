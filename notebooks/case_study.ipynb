{
 "cells": [
  {
   "cell_type": "markdown",
   "id": "figured-israel",
   "metadata": {},
   "source": [
    "## Test the case study reactions by hand"
   ]
  },
  {
   "cell_type": "code",
   "execution_count": null,
   "id": "healthy-science",
   "metadata": {},
   "outputs": [],
   "source": [
    "# Define the project root directory\n",
    "ROOT_DIR = os.path.join(os.getcwd(), os.pardir)"
   ]
  },
  {
   "cell_type": "markdown",
   "id": "attached-dollar",
   "metadata": {},
   "source": [
    "### Load the trained models"
   ]
  },
  {
   "cell_type": "code",
   "execution_count": 31,
   "id": "widespread-manufacturer",
   "metadata": {},
   "outputs": [],
   "source": [
    "with open(f\"{ROOT_DIR}/data/rfr_enc.pkl\", \"rb\") as rfr_enc_file:\n",
    "    rfr_enc_best = pickle.load(rfr_enc_file)\n",
    "with open(f\"{ROOT_DIR}/data/rfr_bin.pkl\", \"rb\") as rfr_bin_file:\n",
    "    rfr_bin_best = pickle.load(rfr_bin_file)\n",
    "with open(f\"{ROOT_DIR}/data/krr_enc.pkl\", \"rb\") as krr_enc_file:\n",
    "    krr_enc_best = pickle.load(krr_enc_file)\n",
    "with open(f\"{ROOT_DIR}/data/krr_bin.pkl\", \"rb\") as krr_bin_file:\n",
    "    krr_bin_best = pickle.load(krr_bin_file)"
   ]
  },
  {
   "cell_type": "code",
   "execution_count": 221,
   "id": "australian-tooth",
   "metadata": {},
   "outputs": [
    {
     "data": {
      "text/html": [
       "<div>\n",
       "<style scoped>\n",
       "    .dataframe tbody tr th:only-of-type {\n",
       "        vertical-align: middle;\n",
       "    }\n",
       "\n",
       "    .dataframe tbody tr th {\n",
       "        vertical-align: top;\n",
       "    }\n",
       "\n",
       "    .dataframe thead th {\n",
       "        text-align: right;\n",
       "    }\n",
       "</style>\n",
       "<table border=\"1\" class=\"dataframe\">\n",
       "  <thead>\n",
       "    <tr style=\"text-align: right;\">\n",
       "      <th></th>\n",
       "      <th>Reactant 1</th>\n",
       "      <th>Reactant 2</th>\n",
       "      <th>Reactant 3</th>\n",
       "      <th>Product 1</th>\n",
       "      <th>Product 2</th>\n",
       "      <th>Chemical Composition</th>\n",
       "      <th>Surface Composition</th>\n",
       "      <th>Facet</th>\n",
       "      <th>Adsorption Site</th>\n",
       "      <th>Reaction Equation</th>\n",
       "      <th>Reaction Energy</th>\n",
       "      <th>Activation Energy</th>\n",
       "    </tr>\n",
       "  </thead>\n",
       "  <tbody>\n",
       "    <tr>\n",
       "      <th>0</th>\n",
       "      <td>42</td>\n",
       "      <td>58</td>\n",
       "      <td>5</td>\n",
       "      <td>36</td>\n",
       "      <td>54</td>\n",
       "      <td>22</td>\n",
       "      <td>7</td>\n",
       "      <td>4</td>\n",
       "      <td>8</td>\n",
       "      <td>21</td>\n",
       "      <td>0.39</td>\n",
       "      <td>0.35</td>\n",
       "    </tr>\n",
       "  </tbody>\n",
       "</table>\n",
       "</div>"
      ],
      "text/plain": [
       "   Reactant 1  Reactant 2  Reactant 3  Product 1  Product 2  \\\n",
       "0          42          58           5         36         54   \n",
       "\n",
       "   Chemical Composition  Surface Composition  Facet  Adsorption Site  \\\n",
       "0                    22                    7      4                8   \n",
       "\n",
       "   Reaction Equation  Reaction Energy  Activation Energy  \n",
       "0                 21             0.39               0.35  "
      ]
     },
     "execution_count": 221,
     "metadata": {},
     "output_type": "execute_result"
    }
   ],
   "source": [
    "test_reaction = df_copy.loc[0:0].copy()\n",
    "\n",
    "#print(enc_mapper.features[9][1])\n",
    "#print(enc_mapper.features[7][1].classes_[20])\n",
    "\n",
    "test_reaction[\"Reactant 1\"] = \"H2O\"\n",
    "test_reaction[\"Reactant 2\"] = \"None\"\n",
    "test_reaction[\"Reactant 3\"] = \"None\"\n",
    "test_reaction[\"Product 1\"] = \"H*\"\n",
    "test_reaction[\"Product 2\"] = \"OH*\"\n",
    "test_reaction[\"Product 3\"] = \"None\"\n",
    "test_reaction[\"Chemical Composition\"] = \"Fe\"\n",
    "test_reaction[\"Surface Composition\"] = \"Fe\"\n",
    "test_reaction[\"Facet\"] = \"100\"\n",
    "test_reaction[\"Adsorption Site\"] = \"None\"\n",
    "#test_reaction[\"Reaction Equation\"] = \"H2O -> H* + OH*\"\n",
    "test_reaction[\"DFT Functional\"] = \"RPBE\"\n",
    "test_reaction[\"Reaction Energy\"] = 0.39\n",
    "test_reaction[\"Activation Energy\"] = 0.35\n",
    "\n",
    "test_reaction = enc_mapper.transform(test_reaction)\n",
    "test_reaction[\"Reaction Equation\"] = 21\n",
    "test_reaction"
   ]
  },
  {
   "cell_type": "code",
   "execution_count": 222,
   "id": "going-flavor",
   "metadata": {},
   "outputs": [
    {
     "name": "stdout",
     "output_type": "stream",
     "text": [
      "Prediction:\t 0.8001151354430885\n",
      "Target:\t\t 0.35\n"
     ]
    }
   ],
   "source": [
    "y_test_reaction = test_reaction[\"Activation Energy\"]\n",
    "X_test_reaction = test_reaction.drop(\"Activation Energy\", axis=1)\n",
    "\n",
    "test_reaction_prediction = rfr_enc_best.predict(X_test_reaction)\n",
    "print(\"Prediction:\\t\", test_reaction_prediction[0])\n",
    "print(\"Target:\\t\\t\", y_test_reaction[0])"
   ]
  }
 ],
 "metadata": {
  "kernelspec": {
   "display_name": "Python 3",
   "language": "python",
   "name": "python3"
  },
  "language_info": {
   "codemirror_mode": {
    "name": "ipython",
    "version": 3
   },
   "file_extension": ".py",
   "mimetype": "text/x-python",
   "name": "python",
   "nbconvert_exporter": "python",
   "pygments_lexer": "ipython3",
   "version": "3.8.8"
  }
 },
 "nbformat": 4,
 "nbformat_minor": 5
}
