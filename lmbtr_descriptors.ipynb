{
 "cells": [
  {
   "cell_type": "markdown",
   "id": "artificial-noise",
   "metadata": {},
   "source": [
    "### Construct descriptors from structure data"
   ]
  },
  {
   "cell_type": "code",
   "execution_count": 28,
   "id": "closing-belgium",
   "metadata": {},
   "outputs": [
    {
     "name": "stdout",
     "output_type": "stream",
     "text": [
      "Loaded 1424 corresponding structure lists.\n"
     ]
    }
   ],
   "source": [
    "# Load the structure data for Catalysis-hub data, and\n",
    "# convert the structures into lists of ase.Atoms objects,\n",
    "# where each list of Atoms objects represents one reaction.\n",
    "# The reactions and the corresponding structures are in\n",
    "# the same order.\n",
    "\n",
    "with open(f\"{ROOT_DIR}/data/reactions_cathub.json\", \"r\") as file:\n",
    "    struct_data = json.load(file)\n",
    "    \n",
    "keys = list(struct_data.keys())\n",
    "structures = []\n",
    "for key in keys:\n",
    "    structs = struct_data[key][\"structures\"]\n",
    "    reaction_structures = []\n",
    "    for struct in structs:\n",
    "        struct_dict = {}\n",
    "        with open(f\"{ROOT_DIR}/data/struct_tmp.xyz\", \"w\") as f:\n",
    "            f.write(struct[\"InputFile\"])\n",
    "        atoms = read(f\"{ROOT_DIR}/data/struct_tmp.xyz\")\n",
    "        struct_dict[\"atoms\"] = atoms\n",
    "        struct_dict[\"energy\"] = struct[\"energy\"]\n",
    "        reaction_structures.append(struct_dict)\n",
    "    structures.append(reaction_structures)\n",
    "os.remove(f\"{ROOT_DIR}/data/struct_tmp.xyz\")\n",
    "\n",
    "print(f\"Loaded {len(structures)} corresponding structure lists.\")"
   ]
  },
  {
   "cell_type": "code",
   "execution_count": 29,
   "id": "purple-logging",
   "metadata": {},
   "outputs": [],
   "source": [
    "def get_init_fin_structures(structure):\n",
    "    \"\"\"\n",
    "    The function finds the initial and final structures from a set of\n",
    "    structures describing the given reaction. Only structures comprising\n",
    "    more than 10 atoms are used to discard any structures that do not\n",
    "    describe the whole system. From these, the first and the last\n",
    "    structure are chosen as the initial and final structures, respectively.\n",
    "    \n",
    "    Note: This method might be incorrect, as some structures might have\n",
    "    10 or more atoms, but still describe an incomplete adsorbed system.\n",
    "    Also, the order of the structures is not confirmed, so the first and\n",
    "    the last structures might not correctly represent the initial and\n",
    "    final configurations of the system.\n",
    "    \n",
    "    Arguments:\n",
    "      structure (list):  A list of dictionaries describing the individual\n",
    "                          structures of the reaction.\n",
    "    Returns:\n",
    "      ret (list):        A list containing the dictionaries for the first\n",
    "                          and the last structure in the reaction.\n",
    "      None:              If there are less than two structures available.\n",
    "    \"\"\"\n",
    "    \n",
    "    struct_list = []\n",
    "    # Select only structures that have at least 10 atoms\n",
    "    for i,struct in enumerate(structure):\n",
    "        if len(struct[\"atoms\"]) >= 10:\n",
    "            struct_list.append(struct)\n",
    "    # Return the first and the last structure only if more than two\n",
    "    # structures are found\n",
    "    if len(struct_list) > 1:\n",
    "        ret = [struct_list[0], struct_list[-1]]\n",
    "    else:\n",
    "        ret = None\n",
    "        \n",
    "    return ret"
   ]
  },
  {
   "cell_type": "code",
   "execution_count": 30,
   "id": "deadly-month",
   "metadata": {
    "tags": []
   },
   "outputs": [
    {
     "name": "stdout",
     "output_type": "stream",
     "text": [
      "Found 499 reactions with initial and final configurations.\n"
     ]
    }
   ],
   "source": [
    "# Get the initial and final configurations from reactions\n",
    "init_fin_structures = []\n",
    "indices = []\n",
    "for i,struct in enumerate(structures):\n",
    "    res = get_init_fin_structures(struct)\n",
    "    if res:\n",
    "        init_fin_structures.append(res)\n",
    "        indices.append(i)\n",
    "\n",
    "init_fin_structures = np.array(init_fin_structures)\n",
    "init_fin_data = df_cathub_raw.iloc[indices]\n",
    "\n",
    "print(f\"Found {len(init_fin_structures)} reactions with initial and final configurations.\")"
   ]
  },
  {
   "cell_type": "code",
   "execution_count": 31,
   "id": "speaking-dodge",
   "metadata": {
    "scrolled": true
   },
   "outputs": [],
   "source": [
    "def build_struct_descriptor(structure):\n",
    "    \"\"\"\n",
    "    The function builds a combined LMBTR-based descriptor for a given reaction.\n",
    "    The descriptor consists of two individual LMBTR descriptors that are\n",
    "    concatenated into a single 1D array.\n",
    "    \n",
    "    Arguments:\n",
    "      structure (list):     The dictionaries for the first and the last configuration.\n",
    "    Returns:\n",
    "      total_lmbtr (array):  Numpy array of the combined LMBTR descriptors.\n",
    "    \"\"\"\n",
    "    \n",
    "    init_struct = Atoms(structure[0][\"atoms\"])\n",
    "    fin_struct  = Atoms(structure[1][\"atoms\"])\n",
    "    species = []\n",
    "    species.extend(init_struct.get_chemical_symbols())\n",
    "    species.extend(fin_struct.get_chemical_symbols())\n",
    "    species = list(dict.fromkeys(species))\n",
    "    periodic = init_struct.get_pbc().any()\n",
    "    lmbtr = LMBTR(\n",
    "        species=species,\n",
    "        k2={\n",
    "            \"geometry\": {\"function\": \"distance\"},\n",
    "            \"grid\": {\"min\": 0, \"max\": 5, \"n\": 50, \"sigma\": 0.005},\n",
    "            \"weighting\": {\"function\": \"exponential\", \"scale\": 0.5, \"cutoff\": 1e-3},\n",
    "        },\n",
    "        k3={\n",
    "            \"geometry\": {\"function\": \"angle\"},\n",
    "            \"grid\": {\"min\": 0, \"max\": 180, \"n\": 50, \"sigma\": 0.005},\n",
    "            \"weighting\": {\"function\": \"exponential\", \"scale\": 0.5, \"cutoff\": 1e-3},\n",
    "        },\n",
    "        periodic=periodic,\n",
    "        normalization=\"l2_each\",\n",
    "    )\n",
    "    init_lmbtr = lmbtr.create(init_struct).flatten()\n",
    "    fin_lmbtr = lmbtr.create(fin_struct).flatten()\n",
    "    total_lmbtr = np.concatenate((init_lmbtr, fin_lmbtr), axis=None)\n",
    "    \n",
    "    return total_lmbtr"
   ]
  },
  {
   "cell_type": "code",
   "execution_count": 32,
   "id": "frozen-torture",
   "metadata": {
    "tags": []
   },
   "outputs": [
    {
     "name": "stdout",
     "output_type": "stream",
     "text": [
      "Built 499 descriptors with corresponding targets\n"
     ]
    }
   ],
   "source": [
    "# Build a list of structural descriptors and the corresponding activation energies\n",
    "descriptors = []\n",
    "targets = []\n",
    "for i in range(len(init_fin_structures)):\n",
    "    descr = build_struct_descriptor(init_fin_structures[i])\n",
    "    descriptors.append(descr)\n",
    "    targets.append(init_fin_data.iloc[i][\"activationEnergy\"])\n",
    "print(f\"Built {len(descriptors)} descriptors with corresponding targets\")"
   ]
  },
  {
   "cell_type": "code",
   "execution_count": null,
   "id": "present-jacob",
   "metadata": {},
   "outputs": [
    {
     "name": "stdout",
     "output_type": "stream",
     "text": [
      "Number of features: 296000\n"
     ]
    }
   ],
   "source": [
    "# Pad ragged lists with zeros\n",
    "max_len = 0\n",
    "for row in descriptors:\n",
    "    if len(row) > max_len:\n",
    "        max_len = len(row)\n",
    "print(f\"Number of features: {max_len}\")\n",
    "for i,row in enumerate(descriptors):\n",
    "    descriptors[i] = list(row) + [0 for i in range(max_len - len(row))]\n",
    "descriptors = np.array(descriptors)"
   ]
  },
  {
   "cell_type": "code",
   "execution_count": null,
   "id": "incomplete-packet",
   "metadata": {},
   "outputs": [],
   "source": [
    "# Save the LMBTR structure descriptors and targets\n",
    "np.savetxt(f\"{ROOT_DIR}/data/structure_descriptors.txt\", descriptors)\n",
    "np.savetxt(f\"{ROOT_DIR}/data/structure_targets.txt\", targets)"
   ]
  }
 ],
 "metadata": {
  "kernelspec": {
   "display_name": "Python 3",
   "language": "python",
   "name": "python3"
  },
  "language_info": {
   "codemirror_mode": {
    "name": "ipython",
    "version": 3
   },
   "file_extension": ".py",
   "mimetype": "text/x-python",
   "name": "python",
   "nbconvert_exporter": "python",
   "pygments_lexer": "ipython3",
   "version": "3.8.8"
  }
 },
 "nbformat": 4,
 "nbformat_minor": 5
}
