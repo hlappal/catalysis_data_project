{
 "cells": [
  {
   "cell_type": "markdown",
   "metadata": {},
   "source": [
    "# CatApp database query\n",
    "\n",
    "The database need to be downloaded full from the [CMR](https://cmr.fysik.dtu.dk/catapp/catapp.html#catapp1) website, and is then queried locally. The script handles the downloading of the database into the project root directory."
   ]
  },
  {
   "cell_type": "code",
   "execution_count": 9,
   "metadata": {
    "collapsed": false,
    "jupyter": {
     "outputs_hidden": false
    }
   },
   "outputs": [],
   "source": [
    "# Imports\n",
    "\n",
    "import matplotlib.pyplot as plt\n",
    "import numpy as np\n",
    "import ase.db\n",
    "import requests\n",
    "import json\n",
    "import os\n",
    "\n",
    "from ase.visualize import view\n",
    "from sklearn.kernel_ridge import KernelRidge as KRR\n",
    "from sklearn.neighbors import KNeighborsRegressor as KNN\n",
    "\n",
    "# Define the project root directory\n",
    "ROOT_DIR = os.path.join(os.getcwd(), os.pardir)"
   ]
  },
  {
   "cell_type": "code",
   "execution_count": 22,
   "metadata": {
    "collapsed": false,
    "jupyter": {
     "outputs_hidden": false
    }
   },
   "outputs": [],
   "source": [
    "# Download the database, if it does not yeat exist in the root directory\n",
    "if not os.path.isfile(f\"{ROOT_DIR}/data/catapp.db\"):\n",
    "    url = \"https://cmr.fysik.dtu.dk/_downloads/716b1e0826acbb3d80675c116a2cb8a6/catapp.db\"\n",
    "    db_file = requests.get(url)\n",
    "    with open(f\"{ROOT_DIR}/data/catapp.db\", \"wb\") as file:\n",
    "        file.write(db_file.content)\n",
    "    print(f\"The database downloaded as {ROOT_DIR}/data/catapp.db\")\n",
    "\n",
    "# Connect to database\n",
    "con = ase.db.connect(f\"{ROOT_DIR}/data/catapp.db\")"
   ]
  },
  {
   "cell_type": "code",
   "execution_count": 25,
   "metadata": {},
   "outputs": [
    {
     "name": "stdout",
     "output_type": "stream",
     "text": [
      "All reactions read into file\n"
     ]
    }
   ],
   "source": [
    "# Save the reactions into a dictionary\n",
    "reactions = {}\n",
    "\n",
    "# Iterate over the database and save each feature into\n",
    "# a row, and then append that row into the dictionary.\n",
    "i = 0\n",
    "for row in con.select():\n",
    "    try:\n",
    "        reaction = {}\n",
    "        reaction['reactant_a'] = row.a\n",
    "        reaction['reactant_b'] = row.b\n",
    "        reaction['product_ab'] = row.ab\n",
    "        reaction['reactant_surface'] = row.surface\n",
    "        reaction['reactant_facet'] = row.facet\n",
    "        try:\n",
    "            # The adsorption site does not always exist\n",
    "            reaction['site'] = row.site\n",
    "        except AttributeError:\n",
    "            # Assign a string 'None' if value not found\n",
    "            reaction['site'] = 'None'\n",
    "        reaction['reaction_energy'] = row.er\n",
    "        reaction['activation_energy'] = row.ea\n",
    "        reaction['dft_functional'] = row.xc\n",
    "        reactions[i] = reaction\n",
    "        i += 1\n",
    "    except AttributeError:\n",
    "        # A crude way to handle unexpected errors:\n",
    "        # The reaction is simply discarded\n",
    "        pass\n",
    "\n",
    "# Save the reaction dictionary into a Json file\n",
    "with open(f\"{ROOT_DIR}/data/reactions_catapp.json\", \"w\") as file:\n",
    "    json.dump(reactions, file)\n",
    "\n",
    "print('All reactions read into file')"
   ]
  },
  {
   "cell_type": "code",
   "execution_count": null,
   "metadata": {
    "collapsed": false,
    "jupyter": {
     "outputs_hidden": false
    }
   },
   "outputs": [],
   "source": []
  }
 ],
 "metadata": {
  "kernelspec": {
   "display_name": "Python 3",
   "language": "python",
   "name": "python3"
  },
  "language_info": {
   "codemirror_mode": {
    "name": "ipython",
    "version": 3
   },
   "file_extension": ".py",
   "mimetype": "text/x-python",
   "name": "python",
   "nbconvert_exporter": "python",
   "pygments_lexer": "ipython3",
   "version": "3.8.8"
  },
  "name": "catapp.ipynb"
 },
 "nbformat": 4,
 "nbformat_minor": 4
}
